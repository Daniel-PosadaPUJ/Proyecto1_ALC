{
 "cells": [
  {
   "metadata": {},
   "cell_type": "markdown",
   "source": "# Punto 1 (Exploración técnicas de Clustering)",
   "id": "3d5811f5b2a62fc2"
  },
  {
   "metadata": {},
   "cell_type": "markdown",
   "source": [
    "## Introducción al Clustering y K-Means\n",
    "\n",
    "En el presente notebook se exploran las técnicas de clustering, se implementará el algoritmo K-means desde cero sin utilizar librerías especializadas para clustering (pero sí para manejo de datos y visualización). Se utilizarán **datos sintéticos** con **5 clusters** en **2D y 3D**, cuyas **etiquetas verdaderas** son conocidas. Esto permitirá **comparar los resultados del algoritmo** con las etiquetas originales.\n",
    "\n",
    "### ¿Qué es el Clustering?\n",
    "El **Clustering** es una técnica de **aprendizaje no supervisado** que consiste en **agrupar datos** en **conjuntos** o **clusters** basándose en su **similitud**.  \n",
    "El objetivo es que los **puntos dentro de un mismo cluster** sean **lo más similares posible** entre sí, mientras que los **puntos en clusters diferentes** sean **lo más diferentes posible**.  \n",
    "\n",
    "El clustering se utiliza en diversos campos, como:\n",
    "- **Análisis de clientes**: Para agrupar clientes con comportamientos de compra similares.  \n",
    "- **Segmentación de imágenes**: Para identificar regiones similares en una imagen.  \n",
    "- **Agrupación de documentos**: Para organizar grandes volúmenes de texto en temas o categorías.\n",
    "\n",
    "---\n",
    "\n",
    "### ¿Qué es K-Means?\n",
    "**K-Means** es uno de los algoritmos de **clustering** más **populares** y **simples**.  \n",
    "Funciona agrupando los datos en **K clusters**, donde **K** es un número definido previamente.  \n",
    "El objetivo de K-Means es **minimizar la varianza intra-cluster** y **maximizar la separación inter-cluster**.\n",
    "\n",
    "#### **¿Cómo funciona?**  \n",
    "1. **Inicialización**: Se eligen aleatoriamente **K centroides** (uno por cada cluster).  \n",
    "2. **Asignación de puntos**: Cada punto de datos se asigna al **centroide más cercano**.  \n",
    "3. **Recalculación de centroides**: Se **recalcula la posición** de cada centroide como la **media** de los puntos asignados a su cluster.  \n",
    "4. **Repetición**: Los pasos 2 y 3 se **repiten hasta converger**, es decir, hasta que se supere la cantidad de iteraciones máximas o que ya no exista un cambio significitativo entre el cálculo de los centroides.\n",
    "\n",
    "### **Características clave de K-Means**:  \n",
    "- Es **rápido y eficiente** en datasets grandes.  \n",
    "- Se requiere **especificar el número de clusters (K)** de antemano.  \n",
    "- Utiliza una **métrica de distancia** (usualmente **Euclidiana**) para asignar puntos a los clusters.  \n",
    "- Puede **converger a mínimos locales**, dependiendo de la **inicialización de los centroides**.\n",
    "\n",
    "---"
   ],
   "id": "db83529c537902dc"
  },
  {
   "cell_type": "code",
   "execution_count": null,
   "id": "initial_id",
   "metadata": {
    "collapsed": true
   },
   "outputs": [],
   "source": [
    ""
   ]
  }
 ],
 "metadata": {
  "kernelspec": {
   "display_name": "Python 3",
   "language": "python",
   "name": "python3"
  },
  "language_info": {
   "codemirror_mode": {
    "name": "ipython",
    "version": 2
   },
   "file_extension": ".py",
   "mimetype": "text/x-python",
   "name": "python",
   "nbconvert_exporter": "python",
   "pygments_lexer": "ipython2",
   "version": "2.7.6"
  }
 },
 "nbformat": 4,
 "nbformat_minor": 5
}
