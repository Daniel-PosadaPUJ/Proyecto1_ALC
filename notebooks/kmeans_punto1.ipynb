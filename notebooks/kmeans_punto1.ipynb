{
 "cells": [
  {
   "metadata": {},
   "cell_type": "markdown",
   "source": "# Punto 1 (Exploración técnicas de Clustering)",
   "id": "3d5811f5b2a62fc2"
  },
  {
   "metadata": {},
   "cell_type": "markdown",
   "source": [
    "## Introducción al Clustering y K-Means\n",
    "En el presente notebook se exploran las técnicas de clustering, se implementará el algoritmo K-means desde cero sin utilizar librerías especializadas para clustering (pero sí para manejo de datos y visualización). Se utilizarán **datos sintéticos** con **5 clusters** en **2D y 3D**, cuyas **etiquetas verdaderas** son conocidas. Esto permitirá **comparar los resultados del algoritmo** con las etiquetas originales.\n",
    "### ¿Qué es el Clustering?\n",
    "El **Clustering** es una técnica de **aprendizaje no supervisado** que consiste en **agrupar datos** en **conjuntos** o **clusters** basándose en su **similitud**.  \n",
    "El objetivo es que los **puntos dentro de un mismo cluster** sean **lo más similares posible** entre sí, mientras que los **puntos en clusters diferentes** sean **lo más diferentes posible**.  \n",
    "\n",
    "El clustering se utiliza en diversos campos, como:\n",
    "- **Análisis de clientes**: Para agrupar clientes con comportamientos de compra similares.  \n",
    "- **Segmentación de imágenes**: Para identificar regiones similares en una imagen.  \n",
    "- **Agrupación de documentos**: Para organizar grandes volúmenes de texto en temas o categorías.\n",
    "\n",
    "---\n",
    "\n",
    "### ¿Qué es K-Means?\n",
    "**K-Means** es uno de los algoritmos de **clustering** más **populares** y **simples**.  \n",
    "Funciona agrupando los datos en **K clusters**, donde **K** es un número definido previamente.  \n",
    "El objetivo de K-Means es **minimizar la varianza intra-cluster** y **maximizar la separación inter-cluster**.\n",
    "\n",
    "#### **¿Cómo funciona?**  \n",
    "1. **Inicialización**: Se eligen aleatoriamente **K centroides** (uno por cada cluster).  \n",
    "2. **Asignación de puntos**: Cada punto de datos se asigna al **centroide más cercano**.  \n",
    "3. **Recalculación de centroides**: Se **recalcula la posición** de cada centroide como la **media** de los puntos asignados a su cluster.  \n",
    "4. **Repetición**: Los pasos 2 y 3 se **repiten hasta converger**, es decir, hasta que se supere la cantidad de iteraciones máximas o que ya no exista un cambio significitativo entre el cálculo de los centroides.\n",
    "\n",
    "### **Características de K-Means**:  \n",
    "- Es **rápido y eficiente** en datasets grandes.  \n",
    "- Se requiere **especificar el número de clusters (K)** de antemano.  \n",
    "- Utiliza una **métrica de distancia** (usualmente **Euclidiana**) para asignar puntos a los clusters.  \n",
    "- Puede **converger a mínimos locales**, dependiendo de la **inicialización de los centroides**."
   ],
   "id": "db83529c537902dc"
  },
  {
   "metadata": {},
   "cell_type": "markdown",
   "source": [
    "## Importación librerías\n",
    "En este proyecto se hará uso de las librerías indicadas en el documento _requirements.txt_ para la gestión de datos y visualización. A continuación se importan las librerías necesarias (pandas, numpy, matplotlib, scipy, entre otras)."
   ],
   "id": "148ba6eb5b97605"
  },
  {
   "metadata": {
    "ExecuteTime": {
     "end_time": "2025-02-26T12:00:28.357476Z",
     "start_time": "2025-02-26T12:00:26.968895Z"
    }
   },
   "cell_type": "code",
   "source": [
    "import numpy as np\n",
    "import pandas as pd\n",
    "import matplotlib.pyplot as plt\n",
    "from mpl_toolkits.mplot3d import Axes3D"
   ],
   "id": "b9160f56d28d84bc",
   "outputs": [],
   "execution_count": 1
  },
  {
   "metadata": {},
   "cell_type": "markdown",
   "source": [
    "## Lectura de datos\n",
    "Se hará la lectura de dos datasets de datos sintéticos, uno en 2D y otro en 3D (_data_2d_ y _data_3d_ respectivamente)."
   ],
   "id": "fffa8e3243803280"
  },
  {
   "metadata": {
    "ExecuteTime": {
     "end_time": "2025-02-26T12:00:28.398280Z",
     "start_time": "2025-02-26T12:00:28.377502Z"
    }
   },
   "cell_type": "code",
   "source": [
    "# Lectura de datos 2d\n",
    "data_2d = pd.read_csv('../data/data_2d.csv')\n",
    "data_2d.head()"
   ],
   "id": "8fe93d7028e962ee",
   "outputs": [
    {
     "data": {
      "text/plain": [
       "          x         y  label\n",
       "0 -0.542815  0.498673      1\n",
       "1  0.141489 -0.753147      1\n",
       "2 -0.289300  0.825718      1\n",
       "3 -1.213340 -0.214456      1\n",
       "4  0.632968 -0.433370      1"
      ],
      "text/html": [
       "<div>\n",
       "<style scoped>\n",
       "    .dataframe tbody tr th:only-of-type {\n",
       "        vertical-align: middle;\n",
       "    }\n",
       "\n",
       "    .dataframe tbody tr th {\n",
       "        vertical-align: top;\n",
       "    }\n",
       "\n",
       "    .dataframe thead th {\n",
       "        text-align: right;\n",
       "    }\n",
       "</style>\n",
       "<table border=\"1\" class=\"dataframe\">\n",
       "  <thead>\n",
       "    <tr style=\"text-align: right;\">\n",
       "      <th></th>\n",
       "      <th>x</th>\n",
       "      <th>y</th>\n",
       "      <th>label</th>\n",
       "    </tr>\n",
       "  </thead>\n",
       "  <tbody>\n",
       "    <tr>\n",
       "      <th>0</th>\n",
       "      <td>-0.542815</td>\n",
       "      <td>0.498673</td>\n",
       "      <td>1</td>\n",
       "    </tr>\n",
       "    <tr>\n",
       "      <th>1</th>\n",
       "      <td>0.141489</td>\n",
       "      <td>-0.753147</td>\n",
       "      <td>1</td>\n",
       "    </tr>\n",
       "    <tr>\n",
       "      <th>2</th>\n",
       "      <td>-0.289300</td>\n",
       "      <td>0.825718</td>\n",
       "      <td>1</td>\n",
       "    </tr>\n",
       "    <tr>\n",
       "      <th>3</th>\n",
       "      <td>-1.213340</td>\n",
       "      <td>-0.214456</td>\n",
       "      <td>1</td>\n",
       "    </tr>\n",
       "    <tr>\n",
       "      <th>4</th>\n",
       "      <td>0.632968</td>\n",
       "      <td>-0.433370</td>\n",
       "      <td>1</td>\n",
       "    </tr>\n",
       "  </tbody>\n",
       "</table>\n",
       "</div>"
      ]
     },
     "execution_count": 2,
     "metadata": {},
     "output_type": "execute_result"
    }
   ],
   "execution_count": 2
  },
  {
   "metadata": {
    "ExecuteTime": {
     "end_time": "2025-02-26T12:00:28.724414Z",
     "start_time": "2025-02-26T12:00:28.705028Z"
    }
   },
   "cell_type": "code",
   "source": [
    "# Lectura de datos 3d\n",
    "data_3d = pd.read_csv('../data/data_3d.csv')\n",
    "data_3d.head()"
   ],
   "id": "78e7b14dbb1d2a0a",
   "outputs": [
    {
     "data": {
      "text/plain": [
       "          x         y         z  label\n",
       "0 -0.374414  0.283797  0.359075      1\n",
       "1 -0.499690  0.237449 -0.934250      1\n",
       "2 -0.101329 -0.567124 -0.403850      1\n",
       "3 -0.638039  0.276813  0.276937      1\n",
       "4 -0.345600  0.187791  0.130636      1"
      ],
      "text/html": [
       "<div>\n",
       "<style scoped>\n",
       "    .dataframe tbody tr th:only-of-type {\n",
       "        vertical-align: middle;\n",
       "    }\n",
       "\n",
       "    .dataframe tbody tr th {\n",
       "        vertical-align: top;\n",
       "    }\n",
       "\n",
       "    .dataframe thead th {\n",
       "        text-align: right;\n",
       "    }\n",
       "</style>\n",
       "<table border=\"1\" class=\"dataframe\">\n",
       "  <thead>\n",
       "    <tr style=\"text-align: right;\">\n",
       "      <th></th>\n",
       "      <th>x</th>\n",
       "      <th>y</th>\n",
       "      <th>z</th>\n",
       "      <th>label</th>\n",
       "    </tr>\n",
       "  </thead>\n",
       "  <tbody>\n",
       "    <tr>\n",
       "      <th>0</th>\n",
       "      <td>-0.374414</td>\n",
       "      <td>0.283797</td>\n",
       "      <td>0.359075</td>\n",
       "      <td>1</td>\n",
       "    </tr>\n",
       "    <tr>\n",
       "      <th>1</th>\n",
       "      <td>-0.499690</td>\n",
       "      <td>0.237449</td>\n",
       "      <td>-0.934250</td>\n",
       "      <td>1</td>\n",
       "    </tr>\n",
       "    <tr>\n",
       "      <th>2</th>\n",
       "      <td>-0.101329</td>\n",
       "      <td>-0.567124</td>\n",
       "      <td>-0.403850</td>\n",
       "      <td>1</td>\n",
       "    </tr>\n",
       "    <tr>\n",
       "      <th>3</th>\n",
       "      <td>-0.638039</td>\n",
       "      <td>0.276813</td>\n",
       "      <td>0.276937</td>\n",
       "      <td>1</td>\n",
       "    </tr>\n",
       "    <tr>\n",
       "      <th>4</th>\n",
       "      <td>-0.345600</td>\n",
       "      <td>0.187791</td>\n",
       "      <td>0.130636</td>\n",
       "      <td>1</td>\n",
       "    </tr>\n",
       "  </tbody>\n",
       "</table>\n",
       "</div>"
      ]
     },
     "execution_count": 3,
     "metadata": {},
     "output_type": "execute_result"
    }
   ],
   "execution_count": 3
  },
  {
   "metadata": {},
   "cell_type": "markdown",
   "source": [
    "## Estudio estadístico de los datos\n",
    "Se realizará un breve estudio estadístico de los datos, para ello se utilizará la función _describe()_ de pandas."
   ],
   "id": "6669ca30c601f03c"
  },
  {
   "metadata": {
    "ExecuteTime": {
     "end_time": "2025-02-26T12:00:28.870628Z",
     "start_time": "2025-02-26T12:00:28.851537Z"
    }
   },
   "cell_type": "code",
   "source": [
    "# Estudio estadístico de los datos 2d\n",
    "print(\"Estudio estadistico de los datos 2D:\")\n",
    "data_2d.describe()"
   ],
   "id": "3410194d49242c62",
   "outputs": [
    {
     "name": "stdout",
     "output_type": "stream",
     "text": [
      "Estudio estadistico de los datos 2D:\n"
     ]
    },
    {
     "data": {
      "text/plain": [
       "                x           y      label\n",
       "count  500.000000  500.000000  500.00000\n",
       "mean    -0.021084   -0.018481    3.00000\n",
       "std      2.709409    2.739144    1.41563\n",
       "min     -4.583528   -4.136309    1.00000\n",
       "25%     -2.881481   -2.852890    2.00000\n",
       "50%      0.063694   -0.063037    3.00000\n",
       "75%      2.794664    2.877321    4.00000\n",
       "max      4.166031    4.479313    5.00000"
      ],
      "text/html": [
       "<div>\n",
       "<style scoped>\n",
       "    .dataframe tbody tr th:only-of-type {\n",
       "        vertical-align: middle;\n",
       "    }\n",
       "\n",
       "    .dataframe tbody tr th {\n",
       "        vertical-align: top;\n",
       "    }\n",
       "\n",
       "    .dataframe thead th {\n",
       "        text-align: right;\n",
       "    }\n",
       "</style>\n",
       "<table border=\"1\" class=\"dataframe\">\n",
       "  <thead>\n",
       "    <tr style=\"text-align: right;\">\n",
       "      <th></th>\n",
       "      <th>x</th>\n",
       "      <th>y</th>\n",
       "      <th>label</th>\n",
       "    </tr>\n",
       "  </thead>\n",
       "  <tbody>\n",
       "    <tr>\n",
       "      <th>count</th>\n",
       "      <td>500.000000</td>\n",
       "      <td>500.000000</td>\n",
       "      <td>500.00000</td>\n",
       "    </tr>\n",
       "    <tr>\n",
       "      <th>mean</th>\n",
       "      <td>-0.021084</td>\n",
       "      <td>-0.018481</td>\n",
       "      <td>3.00000</td>\n",
       "    </tr>\n",
       "    <tr>\n",
       "      <th>std</th>\n",
       "      <td>2.709409</td>\n",
       "      <td>2.739144</td>\n",
       "      <td>1.41563</td>\n",
       "    </tr>\n",
       "    <tr>\n",
       "      <th>min</th>\n",
       "      <td>-4.583528</td>\n",
       "      <td>-4.136309</td>\n",
       "      <td>1.00000</td>\n",
       "    </tr>\n",
       "    <tr>\n",
       "      <th>25%</th>\n",
       "      <td>-2.881481</td>\n",
       "      <td>-2.852890</td>\n",
       "      <td>2.00000</td>\n",
       "    </tr>\n",
       "    <tr>\n",
       "      <th>50%</th>\n",
       "      <td>0.063694</td>\n",
       "      <td>-0.063037</td>\n",
       "      <td>3.00000</td>\n",
       "    </tr>\n",
       "    <tr>\n",
       "      <th>75%</th>\n",
       "      <td>2.794664</td>\n",
       "      <td>2.877321</td>\n",
       "      <td>4.00000</td>\n",
       "    </tr>\n",
       "    <tr>\n",
       "      <th>max</th>\n",
       "      <td>4.166031</td>\n",
       "      <td>4.479313</td>\n",
       "      <td>5.00000</td>\n",
       "    </tr>\n",
       "  </tbody>\n",
       "</table>\n",
       "</div>"
      ]
     },
     "execution_count": 4,
     "metadata": {},
     "output_type": "execute_result"
    }
   ],
   "execution_count": 4
  },
  {
   "metadata": {
    "ExecuteTime": {
     "end_time": "2025-02-26T12:00:29.187329Z",
     "start_time": "2025-02-26T12:00:29.163303Z"
    }
   },
   "cell_type": "code",
   "source": [
    "# Estudio estadístico de los datos 3d\n",
    "print(\"Estudio estadistico de los datos 3D:\")\n",
    "data_3d.describe()"
   ],
   "id": "1cd1b2ddeb7f524",
   "outputs": [
    {
     "name": "stdout",
     "output_type": "stream",
     "text": [
      "Estudio estadistico de los datos 3D:\n"
     ]
    },
    {
     "data": {
      "text/plain": [
       "                x           y           z      label\n",
       "count  500.000000  500.000000  500.000000  500.00000\n",
       "mean     0.007135    0.012954    1.210683    3.00000\n",
       "std      2.767796    2.706724    1.549598    1.41563\n",
       "min     -4.076058   -4.533494   -1.900689    1.00000\n",
       "25%     -2.846464   -2.810216   -0.068054    2.00000\n",
       "50%      0.025454    0.098319    0.415523    3.00000\n",
       "75%      2.903804    2.814452    2.868339    4.00000\n",
       "max      4.058567    4.185694    4.135517    5.00000"
      ],
      "text/html": [
       "<div>\n",
       "<style scoped>\n",
       "    .dataframe tbody tr th:only-of-type {\n",
       "        vertical-align: middle;\n",
       "    }\n",
       "\n",
       "    .dataframe tbody tr th {\n",
       "        vertical-align: top;\n",
       "    }\n",
       "\n",
       "    .dataframe thead th {\n",
       "        text-align: right;\n",
       "    }\n",
       "</style>\n",
       "<table border=\"1\" class=\"dataframe\">\n",
       "  <thead>\n",
       "    <tr style=\"text-align: right;\">\n",
       "      <th></th>\n",
       "      <th>x</th>\n",
       "      <th>y</th>\n",
       "      <th>z</th>\n",
       "      <th>label</th>\n",
       "    </tr>\n",
       "  </thead>\n",
       "  <tbody>\n",
       "    <tr>\n",
       "      <th>count</th>\n",
       "      <td>500.000000</td>\n",
       "      <td>500.000000</td>\n",
       "      <td>500.000000</td>\n",
       "      <td>500.00000</td>\n",
       "    </tr>\n",
       "    <tr>\n",
       "      <th>mean</th>\n",
       "      <td>0.007135</td>\n",
       "      <td>0.012954</td>\n",
       "      <td>1.210683</td>\n",
       "      <td>3.00000</td>\n",
       "    </tr>\n",
       "    <tr>\n",
       "      <th>std</th>\n",
       "      <td>2.767796</td>\n",
       "      <td>2.706724</td>\n",
       "      <td>1.549598</td>\n",
       "      <td>1.41563</td>\n",
       "    </tr>\n",
       "    <tr>\n",
       "      <th>min</th>\n",
       "      <td>-4.076058</td>\n",
       "      <td>-4.533494</td>\n",
       "      <td>-1.900689</td>\n",
       "      <td>1.00000</td>\n",
       "    </tr>\n",
       "    <tr>\n",
       "      <th>25%</th>\n",
       "      <td>-2.846464</td>\n",
       "      <td>-2.810216</td>\n",
       "      <td>-0.068054</td>\n",
       "      <td>2.00000</td>\n",
       "    </tr>\n",
       "    <tr>\n",
       "      <th>50%</th>\n",
       "      <td>0.025454</td>\n",
       "      <td>0.098319</td>\n",
       "      <td>0.415523</td>\n",
       "      <td>3.00000</td>\n",
       "    </tr>\n",
       "    <tr>\n",
       "      <th>75%</th>\n",
       "      <td>2.903804</td>\n",
       "      <td>2.814452</td>\n",
       "      <td>2.868339</td>\n",
       "      <td>4.00000</td>\n",
       "    </tr>\n",
       "    <tr>\n",
       "      <th>max</th>\n",
       "      <td>4.058567</td>\n",
       "      <td>4.185694</td>\n",
       "      <td>4.135517</td>\n",
       "      <td>5.00000</td>\n",
       "    </tr>\n",
       "  </tbody>\n",
       "</table>\n",
       "</div>"
      ]
     },
     "execution_count": 5,
     "metadata": {},
     "output_type": "execute_result"
    }
   ],
   "execution_count": 5
  },
  {
   "metadata": {},
   "cell_type": "markdown",
   "source": [
    "## Visualización de los datos\n",
    "Se procederá a visualizar los datos en 2D y 3D, para ello se utilizará la librería matplotlib y toolkits de mplot3d."
   ],
   "id": "4c408478d68f6b9f"
  },
  {
   "metadata": {
    "ExecuteTime": {
     "end_time": "2025-02-26T12:00:29.854907Z",
     "start_time": "2025-02-26T12:00:29.616696Z"
    }
   },
   "cell_type": "code",
   "source": [
    "# Gráfica de los datos 2D\n",
    "plt.figure(figsize=(8, 6))\n",
    "plt.scatter(data_2d[\"x\"], data_2d[\"y\"], s=50)\n",
    "plt.title(\"Datos 2D\")\n",
    "plt.show()"
   ],
   "id": "95e224ccbb8159ad",
   "outputs": [
    {
     "data": {
      "text/plain": [
       "<Figure size 800x600 with 1 Axes>"
      ],
      "image/png": "[encoded data removed]"
     },
     "metadata": {},
     "output_type": "display_data"
    }
   ],
   "execution_count": 6
  },
  {
   "metadata": {
    "ExecuteTime": {
     "end_time": "2025-02-26T12:00:30.363402Z",
     "start_time": "2025-02-26T12:00:30.169716Z"
    }
   },
   "cell_type": "code",
   "source": [
    "# Gráfica de los datos 3D\n",
    "fig = plt.figure(figsize=(8, 6))\n",
    "ax = fig.add_subplot(111, projection='3d')\n",
    "ax.scatter(data_3d[\"x\"], data_3d[\"y\"], data_3d[\"z\"], s=50)\n",
    "ax.set_title(\"Datos 3D\")\n",
    "plt.show()"
   ],
   "id": "8f4ea46c7c527659",
   "outputs": [
    {
     "data": {
      "text/plain": [
       "<Figure size 800x600 with 1 Axes>"
      ],
      "image/png": "[encoded data removed]"
     },
     "metadata": {},
     "output_type": "display_data"
    }
   ],
   "execution_count": 7
  },
  {
   "metadata": {},
   "cell_type": "markdown",
   "source": [
    "## Implementación de K-Means\n",
    "\n",
    "A continuación se usará el algoritmo K-Means implementado, el cual forma parte de un paquete diseñado para incluir utilidades básicas relacionadas con el análisis de datos y clustering. Este paquete incluye varias funcionalidades útiles distribuidas en diferentes módulos:\n",
    "\n",
    "- **kmeans.py**: Contiene la implementación de la clase `KMeans`, la cual es el núcleo del algoritmo. Esta clase permite realizar clustering utilizando un enfoque flexible con múltiples funciones de distancia. Se destacan las siguientes características:\n",
    "  - `n_clusters`: Número de clusters a formar.\n",
    "  - `max_iter`: Número máximo de iteraciones para el algoritmo.\n",
    "  - `tol`: Tolerancia para la convergencia.\n",
    "  - `distance_func`: Función personalizada para calcular la distancia entre puntos.\n",
    "  - `random_state`: Semilla para la inicialización de los centroides, permitiendo reproducibilidad.\n",
    "\n",
    "  La clase `KMeans` implementa métodos esenciales como:\n",
    "  - `fit(X)`: Ajusta el modelo a los datos de entrada `X`.\n",
    "  - `predict(X)`: Asigna etiquetas de cluster a nuevos datos.\n",
    "  - `inertia(X)`: Calcula la inercia del modelo, es decir, la suma de distancias al cuadrado de los puntos a sus centroides correspondientes.\n",
    "\n",
    "- **miscellaneous.py**: Incluye funciones para calcular diversas normas de distancia, como:\n",
    "  - `euclidean_norm`: Distancia euclidiana.\n",
    "  - `manhattan_norm`: Distancia de Manhattan.\n",
    "  - `chebyshev_norm`: Distancia de Chebyshev.\n",
    "  - `minkowski_norm`: Generalización de la distancia euclidiana.\n",
    "  - `mahalanobis_norm`: Distancia de Mahalanobis.\n",
    "\n",
    "- **preprocess.py**: Facilita la carga y preprocesamiento de datos, incluyendo:\n",
    "  - `load_data(file_path)`: Carga datos desde un archivo CSV.\n",
    "  - `preprocess_data(df, drop_columns, fillna_method)`: Preprocesa el DataFrame eliminando columnas innecesarias, rellenando valores faltantes y estandarizando columnas numéricas.\n",
    "\n",
    "- **metrics.py**: Contiene métricas y métodos de evaluación, como el **Método del Codo** (`elbow_method`), para seleccionar el número óptimo de clusters.\n",
    "\n",
    "- **visualize.py**: Incluye funciones de visualización para analizar los resultados de clustering:\n",
    "  - `plot_elbow_method`: Gráfica del método del codo.\n",
    "  - `plot_clusters_2d`: Visualiza clusters en 2D.\n",
    "  - `plot_clusters_3d`: Visualiza clusters en 3D."
   ],
   "id": "358c2f960435be53"
  },
  {
   "metadata": {},
   "cell_type": "markdown",
   "source": [
    "### Preprocesamiento de los Datos\n",
    "Se procederá a limpiar los datos, eliminando columnas innecesarias para el entrenamiento (_labels_) y asignando el nuevo dataFrame sin dicha columna a `data_to_find_2d` y `data_to_find_3d` respectivamente."
   ],
   "id": "93b7cc54efe47a36"
  },
  {
   "metadata": {
    "ExecuteTime": {
     "end_time": "2025-02-26T12:00:30.593163Z",
     "start_time": "2025-02-26T12:00:30.580238Z"
    }
   },
   "cell_type": "code",
   "source": [
    "# Preprocessing the 2D data excluyendo la última columna\n",
    "data_2d_to_fit = data_2d.iloc[:, :-1]\n",
    "\n",
    "data_2d_to_fit.head()"
   ],
   "id": "3620b73c326449b7",
   "outputs": [
    {
     "data": {
      "text/plain": [
       "          x         y\n",
       "0 -0.542815  0.498673\n",
       "1  0.141489 -0.753147\n",
       "2 -0.289300  0.825718\n",
       "3 -1.213340 -0.214456\n",
       "4  0.632968 -0.433370"
      ],
      "text/html": [
       "<div>\n",
       "<style scoped>\n",
       "    .dataframe tbody tr th:only-of-type {\n",
       "        vertical-align: middle;\n",
       "    }\n",
       "\n",
       "    .dataframe tbody tr th {\n",
       "        vertical-align: top;\n",
       "    }\n",
       "\n",
       "    .dataframe thead th {\n",
       "        text-align: right;\n",
       "    }\n",
       "</style>\n",
       "<table border=\"1\" class=\"dataframe\">\n",
       "  <thead>\n",
       "    <tr style=\"text-align: right;\">\n",
       "      <th></th>\n",
       "      <th>x</th>\n",
       "      <th>y</th>\n",
       "    </tr>\n",
       "  </thead>\n",
       "  <tbody>\n",
       "    <tr>\n",
       "      <th>0</th>\n",
       "      <td>-0.542815</td>\n",
       "      <td>0.498673</td>\n",
       "    </tr>\n",
       "    <tr>\n",
       "      <th>1</th>\n",
       "      <td>0.141489</td>\n",
       "      <td>-0.753147</td>\n",
       "    </tr>\n",
       "    <tr>\n",
       "      <th>2</th>\n",
       "      <td>-0.289300</td>\n",
       "      <td>0.825718</td>\n",
       "    </tr>\n",
       "    <tr>\n",
       "      <th>3</th>\n",
       "      <td>-1.213340</td>\n",
       "      <td>-0.214456</td>\n",
       "    </tr>\n",
       "    <tr>\n",
       "      <th>4</th>\n",
       "      <td>0.632968</td>\n",
       "      <td>-0.433370</td>\n",
       "    </tr>\n",
       "  </tbody>\n",
       "</table>\n",
       "</div>"
      ]
     },
     "execution_count": 8,
     "metadata": {},
     "output_type": "execute_result"
    }
   ],
   "execution_count": 8
  },
  {
   "metadata": {
    "ExecuteTime": {
     "end_time": "2025-02-26T12:00:30.837650Z",
     "start_time": "2025-02-26T12:00:30.818132Z"
    }
   },
   "cell_type": "code",
   "source": [
    "# Preprocessing the 3D data excluyendo la última columna\n",
    "data_3d_to_fit = data_3d.iloc[:, :-1]\n",
    "\n",
    "data_3d_to_fit.head()"
   ],
   "id": "f6fb6801e01a401",
   "outputs": [
    {
     "data": {
      "text/plain": [
       "          x         y         z\n",
       "0 -0.374414  0.283797  0.359075\n",
       "1 -0.499690  0.237449 -0.934250\n",
       "2 -0.101329 -0.567124 -0.403850\n",
       "3 -0.638039  0.276813  0.276937\n",
       "4 -0.345600  0.187791  0.130636"
      ],
      "text/html": [
       "<div>\n",
       "<style scoped>\n",
       "    .dataframe tbody tr th:only-of-type {\n",
       "        vertical-align: middle;\n",
       "    }\n",
       "\n",
       "    .dataframe tbody tr th {\n",
       "        vertical-align: top;\n",
       "    }\n",
       "\n",
       "    .dataframe thead th {\n",
       "        text-align: right;\n",
       "    }\n",
       "</style>\n",
       "<table border=\"1\" class=\"dataframe\">\n",
       "  <thead>\n",
       "    <tr style=\"text-align: right;\">\n",
       "      <th></th>\n",
       "      <th>x</th>\n",
       "      <th>y</th>\n",
       "      <th>z</th>\n",
       "    </tr>\n",
       "  </thead>\n",
       "  <tbody>\n",
       "    <tr>\n",
       "      <th>0</th>\n",
       "      <td>-0.374414</td>\n",
       "      <td>0.283797</td>\n",
       "      <td>0.359075</td>\n",
       "    </tr>\n",
       "    <tr>\n",
       "      <th>1</th>\n",
       "      <td>-0.499690</td>\n",
       "      <td>0.237449</td>\n",
       "      <td>-0.934250</td>\n",
       "    </tr>\n",
       "    <tr>\n",
       "      <th>2</th>\n",
       "      <td>-0.101329</td>\n",
       "      <td>-0.567124</td>\n",
       "      <td>-0.403850</td>\n",
       "    </tr>\n",
       "    <tr>\n",
       "      <th>3</th>\n",
       "      <td>-0.638039</td>\n",
       "      <td>0.276813</td>\n",
       "      <td>0.276937</td>\n",
       "    </tr>\n",
       "    <tr>\n",
       "      <th>4</th>\n",
       "      <td>-0.345600</td>\n",
       "      <td>0.187791</td>\n",
       "      <td>0.130636</td>\n",
       "    </tr>\n",
       "  </tbody>\n",
       "</table>\n",
       "</div>"
      ]
     },
     "execution_count": 9,
     "metadata": {},
     "output_type": "execute_result"
    }
   ],
   "execution_count": 9
  },
  {
   "metadata": {},
   "cell_type": "markdown",
   "source": [
    "### Inicialización de Semilla Aleatoria y Creación del Objeto KMeans\n",
    "\n",
    "Para asegurar la reproducibilidad de los resultados, se inicializa una semilla aleatoria fija utilizando el parámetro `random_state` al crear el objeto de la clase `KMeans`. Esto garantiza que los centroides iniciales sean siempre los mismos en cada ejecución."
   ],
   "id": "330874ced8d02a29"
  },
  {
   "metadata": {
    "ExecuteTime": {
     "end_time": "2025-02-26T12:00:30.988915Z",
     "start_time": "2025-02-26T12:00:30.976608Z"
    }
   },
   "cell_type": "code",
   "source": [
    "# Importación del módulo KMeans\n",
    "from src.kmeans import KMeans"
   ],
   "id": "e2b738acb2c2636d",
   "outputs": [],
   "execution_count": 10
  },
  {
   "metadata": {
    "ExecuteTime": {
     "end_time": "2025-02-26T12:00:31.237562Z",
     "start_time": "2025-02-26T12:00:31.229705Z"
    }
   },
   "cell_type": "code",
   "source": [
    "# Inicialización de semilla aleatoria fija\n",
    "RANDOM_SEED = 42\n",
    "np.random.seed(RANDOM_SEED)"
   ],
   "id": "7ea94b91326119a7",
   "outputs": [],
   "execution_count": 11
  },
  {
   "metadata": {
    "ExecuteTime": {
     "end_time": "2025-02-26T12:00:31.357651Z",
     "start_time": "2025-02-26T12:00:31.351051Z"
    }
   },
   "cell_type": "code",
   "source": [
    "# Creación del objeto KMeans para 2 dimensiones con 5 clusters.\n",
    "kmeans2d = KMeans(n_clusters=5, random_state=RANDOM_SEED)"
   ],
   "id": "4aad179afe7091f4",
   "outputs": [],
   "execution_count": 12
  },
  {
   "metadata": {
    "ExecuteTime": {
     "end_time": "2025-02-26T12:00:31.440439Z",
     "start_time": "2025-02-26T12:00:31.431633Z"
    }
   },
   "cell_type": "code",
   "source": [
    "# Creación del objeto KMeans para 3 dimensiones con 5 clusters.\n",
    "kmeans3d = KMeans(n_clusters=5, random_state=RANDOM_SEED)"
   ],
   "id": "aed7f6503b47aa54",
   "outputs": [],
   "execution_count": 13
  },
  {
   "metadata": {},
   "cell_type": "markdown",
   "source": "### Ajuste del Modelo KMeans a los Datos",
   "id": "bcaeee2e093be25f"
  },
  {
   "metadata": {
    "ExecuteTime": {
     "end_time": "2025-02-26T12:00:32.162804Z",
     "start_time": "2025-02-26T12:00:31.528290Z"
    }
   },
   "cell_type": "code",
   "source": [
    "# Ajuste del modelo KMeans a los datos 2D\n",
    "kmeans2d.fit(data_2d_to_fit)"
   ],
   "id": "18b4f00e2210b8ed",
   "outputs": [],
   "execution_count": 14
  },
  {
   "metadata": {
    "ExecuteTime": {
     "end_time": "2025-02-26T12:00:32.383761Z",
     "start_time": "2025-02-26T12:00:32.177963Z"
    }
   },
   "cell_type": "code",
   "source": [
    "# Ajuste del modelo KMeans a los datos 3D\n",
    "kmeans3d.fit(data_3d_to_fit)"
   ],
   "id": "7d877a19d60800cc",
   "outputs": [],
   "execution_count": 15
  }
 ],
 "metadata": {
  "kernelspec": {
   "display_name": "Python 3",
   "language": "python",
   "name": "python3"
  },
  "language_info": {
   "codemirror_mode": {
    "name": "ipython",
    "version": 2
   },
   "file_extension": ".py",
   "mimetype": "text/x-python",
   "name": "python",
   "nbconvert_exporter": "python",
   "pygments_lexer": "ipython2",
   "version": "2.7.6"
  }
 },
 "nbformat": 4,
 "nbformat_minor": 5
}
