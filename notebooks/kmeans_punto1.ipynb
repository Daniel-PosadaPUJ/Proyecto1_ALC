{
 "cells": [
  {
   "metadata": {},
   "cell_type": "markdown",
   "source": "# Punto 1 (Exploración técnicas de Clustering)",
   "id": "3d5811f5b2a62fc2"
  },
  {
   "metadata": {},
   "cell_type": "markdown",
   "source": [
    "## Introducción al Clustering y K-Means\n",
    "\n",
    "En el presente notebook se exploran las técnicas de clustering, se implementará el algoritmo K-means desde cero sin utilizar librerías especializadas para clustering (pero sí para manejo de datos y visualización). Se utilizarán **datos sintéticos** con **5 clusters** en **2D y 3D**, cuyas **etiquetas verdaderas** son conocidas. Esto permitirá **comparar los resultados del algoritmo** con las etiquetas originales.\n",
    "\n",
    "### ¿Qué es el Clustering?\n",
    "El **Clustering** es una técnica de **aprendizaje no supervisado** que consiste en **agrupar datos** en **conjuntos** o **clusters** basándose en su **similitud**.  \n",
    "El objetivo es que los **puntos dentro de un mismo cluster** sean **lo más similares posible** entre sí, mientras que los **puntos en clusters diferentes** sean **lo más diferentes posible**.  \n",
    "\n",
    "El clustering se utiliza en diversos campos, como:\n",
    "- **Análisis de clientes**: Para agrupar clientes con comportamientos de compra similares.  \n",
    "- **Segmentación de imágenes**: Para identificar regiones similares en una imagen.  \n",
    "- **Agrupación de documentos**: Para organizar grandes volúmenes de texto en temas o categorías.\n",
    "\n",
    "---\n",
    "\n",
    "### ¿Qué es K-Means?\n",
    "**K-Means** es uno de los algoritmos de **clustering** más **populares** y **simples**.  \n",
    "Funciona agrupando los datos en **K clusters**, donde **K** es un número definido previamente.  \n",
    "El objetivo de K-Means es **minimizar la varianza intra-cluster** y **maximizar la separación inter-cluster**.\n",
    "\n",
    "#### **¿Cómo funciona?**  \n",
    "1. **Inicialización**: Se eligen aleatoriamente **K centroides** (uno por cada cluster).  \n",
    "2. **Asignación de puntos**: Cada punto de datos se asigna al **centroide más cercano**.  \n",
    "3. **Recalculación de centroides**: Se **recalcula la posición** de cada centroide como la **media** de los puntos asignados a su cluster.  \n",
    "4. **Repetición**: Los pasos 2 y 3 se **repiten hasta converger**, es decir, hasta que se supere la cantidad de iteraciones máximas o que ya no exista un cambio significitativo entre el cálculo de los centroides.\n",
    "\n",
    "### **Características de K-Means**:  \n",
    "- Es **rápido y eficiente** en datasets grandes.  \n",
    "- Se requiere **especificar el número de clusters (K)** de antemano.  \n",
    "- Utiliza una **métrica de distancia** (usualmente **Euclidiana**) para asignar puntos a los clusters.  \n",
    "- Puede **converger a mínimos locales**, dependiendo de la **inicialización de los centroides**."
   ],
   "id": "db83529c537902dc"
  },
  {
   "metadata": {},
   "cell_type": "markdown",
   "source": [
    "## Importación librerías\n",
    "En este proyecto se hará uso de las librerías indicadas en el documento _requirements.txt_ para la gestión de datos y visualización. A continuación se importan las librerías necesarias (pandas, numpy, matplotlib, scipy, entre otras)."
   ],
   "id": "148ba6eb5b97605"
  },
  {
   "metadata": {
    "jupyter": {
     "is_executing": true
    }
   },
   "cell_type": "code",
   "source": [
    "import numpy as np\n",
    "import pandas as pd"
   ],
   "id": "b9160f56d28d84bc",
   "outputs": [],
   "execution_count": null
  },
  {
   "metadata": {},
   "cell_type": "markdown",
   "source": [
    "## Lectura de datos\n",
    "Se hará la lectura de dos datasets de datos sintéticos, uno en 2D y otro en 3D (_data_2d_ y _data_3d_ respectivamente)."
   ],
   "id": "fffa8e3243803280"
  },
  {
   "metadata": {},
   "cell_type": "code",
   "outputs": [],
   "execution_count": null,
   "source": [
    "# Lectura de datos 2d\n",
    "data_2d = pd.read_csv('data_2d.csv')\n",
    "data_2d.head()\n",
    "\n",
    "# Lectura de datos 3d\n",
    "data_3d = pd.read_csv('data_3d.csv')\n",
    "data_3d.head()"
   ],
   "id": "8fe93d7028e962ee"
  }
 ],
 "metadata": {
  "kernelspec": {
   "display_name": "Python 3",
   "language": "python",
   "name": "python3"
  },
  "language_info": {
   "codemirror_mode": {
    "name": "ipython",
    "version": 2
   },
   "file_extension": ".py",
   "mimetype": "text/x-python",
   "name": "python",
   "nbconvert_exporter": "python",
   "pygments_lexer": "ipython2",
   "version": "2.7.6"
  }
 },
 "nbformat": 4,
 "nbformat_minor": 5
}
